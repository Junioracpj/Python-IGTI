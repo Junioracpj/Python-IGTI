{
 "nbformat": 4,
 "nbformat_minor": 0,
 "metadata": {
  "colab": {
   "name": "RegressaoLinear.ipynb",
   "provenance": [],
   "collapsed_sections": []
  },
  "kernelspec": {
   "name": "python3",
   "display_name": "Python 3"
  },
  "language_info": {
   "name": "python"
  }
 },
 "cells": [
  {
   "cell_type": "code",
   "execution_count": 1,
   "metadata": {
    "id": "tIUDkBwIKM9L",
    "pycharm": {
     "name": "#%%\n"
    }
   },
   "outputs": [],
   "source": [
    "import numpy as np"
   ]
  },
  {
   "cell_type": "code",
   "source": [
    "x = np.array([[160], [165],[171],[174],[179],[181],[185],[188],[191],[200]])"
   ],
   "metadata": {
    "id": "hZhf0HMZKRyx",
    "pycharm": {
     "name": "#%%\n"
    }
   },
   "execution_count": 2,
   "outputs": []
  },
  {
   "cell_type": "code",
   "source": [
    "y = np.array([[64], [67],[70],[80],[77],[81],[87],[84],[101],[112]])"
   ],
   "metadata": {
    "id": "lI2XZ5DsKwlM",
    "pycharm": {
     "name": "#%%\n"
    }
   },
   "execution_count": 3,
   "outputs": []
  },
  {
   "cell_type": "code",
   "source": [
    "# importando biblioteca de vizualizacao\n",
    "import matplotlib.pyplot as plt\n",
    "%matplotlib inline\n",
    "plt.scatter(x, y)"
   ],
   "metadata": {
    "colab": {
     "base_uri": "https://localhost:8080/",
     "height": 282
    },
    "id": "TbN8kEZCK6q7",
    "outputId": "5058d23d-1da7-4cf5-a877-72b2cdc1683d",
    "pycharm": {
     "name": "#%%\n"
    }
   },
   "execution_count": 5,
   "outputs": [
    {
     "output_type": "execute_result",
     "data": {
      "text/plain": [
       "<matplotlib.collections.PathCollection at 0x7f97d7a35090>"
      ]
     },
     "metadata": {},
     "execution_count": 5
    },
    {
     "output_type": "display_data",
     "data": {
      "text/plain": [
       "<Figure size 432x288 with 1 Axes>"
      ],
      "image/png": "[encoded data removed]"
     },
     "metadata": {
      "needs_background": "light"
     }
    }
   ]
  },
  {
   "cell_type": "code",
   "source": [
    "# importando biblioteca para executar a regressao\n",
    "from sklearn.linear_model import LinearRegression\n",
    "\n",
    "# variavel que recebe a regressao\n",
    "regressor = LinearRegression()\n",
    "regressor.fit(x, y)"
   ],
   "metadata": {
    "colab": {
     "base_uri": "https://localhost:8080/"
    },
    "id": "waRA37r1LFWT",
    "outputId": "6a7f6fdf-c876-4744-b156-1a4e6fe293f6",
    "pycharm": {
     "name": "#%%\n"
    }
   },
   "execution_count": 6,
   "outputs": [
    {
     "output_type": "execute_result",
     "data": {
      "text/plain": [
       "LinearRegression()"
      ]
     },
     "metadata": {},
     "execution_count": 6
    }
   ]
  },
  {
   "cell_type": "code",
   "source": [
    "# verificando o intercept\n",
    "regressor.intercept_"
   ],
   "metadata": {
    "colab": {
     "base_uri": "https://localhost:8080/"
    },
    "id": "7MBav5RcLfbf",
    "outputId": "448f35ef-4be0-4d7e-9f72-d5ebd1dfcb80",
    "pycharm": {
     "name": "#%%\n"
    }
   },
   "execution_count": 7,
   "outputs": [
    {
     "output_type": "execute_result",
     "data": {
      "text/plain": [
       "array([-125.05154028])"
      ]
     },
     "metadata": {},
     "execution_count": 7
    }
   ]
  },
  {
   "cell_type": "code",
   "source": [
    "# verificando o coeficiente\n",
    "regressor.coef_"
   ],
   "metadata": {
    "colab": {
     "base_uri": "https://localhost:8080/"
    },
    "id": "a__bYW2ELkY2",
    "outputId": "46d7309a-f779-43b8-b76a-fb8bc37a3186",
    "pycharm": {
     "name": "#%%\n"
    }
   },
   "execution_count": 8,
   "outputs": [
    {
     "output_type": "execute_result",
     "data": {
      "text/plain": [
       "array([[1.15580569]])"
      ]
     },
     "metadata": {},
     "execution_count": 8
    }
   ]
  },
  {
   "cell_type": "code",
   "source": [
    "# previsao de um dado com tamanho 190\n",
    "previsao = regressor.intercept_ + regressor.coef_ * 190\n",
    "print(previsao)"
   ],
   "metadata": {
    "colab": {
     "base_uri": "https://localhost:8080/"
    },
    "id": "lWPV2VsoMnQx",
    "outputId": "4ed97467-7d23-41f5-bdb9-23f93598c21e",
    "pycharm": {
     "name": "#%%\n"
    }
   },
   "execution_count": 10,
   "outputs": [
    {
     "output_type": "stream",
     "name": "stdout",
     "text": [
      "[[94.55154028]]\n"
     ]
    }
   ]
  },
  {
   "cell_type": "code",
   "source": [
    "# previsao de um dado com tamanho 190 usando o predict\n",
    "previsao1 = regressor.predict(np.array([190]).reshape(1, 1))\n",
    "print(previsao1)"
   ],
   "metadata": {
    "colab": {
     "base_uri": "https://localhost:8080/"
    },
    "id": "-5VepwbKNHA7",
    "outputId": "f1e42f86-ad93-422b-f40c-40424935b7fc",
    "pycharm": {
     "name": "#%%\n"
    }
   },
   "execution_count": 13,
   "outputs": [
    {
     "output_type": "stream",
     "name": "stdout",
     "text": [
      "[[94.55154028]]\n"
     ]
    }
   ]
  },
  {
   "cell_type": "code",
   "source": [
    "# previsao de toda a base de dados\n",
    "previsao2 = regressor.predict(x)\n",
    "print(previsao2)"
   ],
   "metadata": {
    "colab": {
     "base_uri": "https://localhost:8080/"
    },
    "id": "4mDlme2pNWnW",
    "outputId": "cd4e9f54-3b80-466c-ae02-8affb7f50f2a",
    "pycharm": {
     "name": "#%%\n"
    }
   },
   "execution_count": 14,
   "outputs": [
    {
     "output_type": "stream",
     "name": "stdout",
     "text": [
      "[[ 59.87736967]\n",
      " [ 65.6563981 ]\n",
      " [ 72.59123223]\n",
      " [ 76.05864929]\n",
      " [ 81.83767773]\n",
      " [ 84.1492891 ]\n",
      " [ 88.77251185]\n",
      " [ 92.23992891]\n",
      " [ 95.70734597]\n",
      " [106.10959716]]\n"
     ]
    }
   ]
  },
  {
   "cell_type": "code",
   "source": [
    "# array mostrando a diferenca do entre a previsao e o resultado\n",
    "resultado = abs( y- previsao2).mean()\n",
    "print(resultado)"
   ],
   "metadata": {
    "colab": {
     "base_uri": "https://localhost:8080/"
    },
    "id": "hEHSIW2tNpHK",
    "outputId": "09f54875-6d90-4764-ceec-d1aac895d581",
    "pycharm": {
     "name": "#%%\n"
    }
   },
   "execution_count": 17,
   "outputs": [
    {
     "output_type": "stream",
     "name": "stdout",
     "text": [
      "4.1181279620853015\n"
     ]
    }
   ]
  },
  {
   "cell_type": "code",
   "source": [
    "# mostrando a media por uma biblioteca especifica\n",
    "from sklearn.metrics import mean_absolute_error, mean_squared_error\n",
    "mae = mean_absolute_error(y, previsao2)\n",
    "print(mae)"
   ],
   "metadata": {
    "colab": {
     "base_uri": "https://localhost:8080/"
    },
    "id": "yLmtrZ2IOF1X",
    "outputId": "e1ab9fe2-36c1-408b-fa1a-292f1c3dc75e",
    "pycharm": {
     "name": "#%%\n"
    }
   },
   "execution_count": 19,
   "outputs": [
    {
     "output_type": "stream",
     "name": "stdout",
     "text": [
      "4.1181279620853015\n"
     ]
    }
   ]
  },
  {
   "cell_type": "code",
   "source": [
    "# quadrado da media do erro - Erro quadratico\n",
    "mse = mean_squared_error(y, previsao2)\n",
    "print(mse)"
   ],
   "metadata": {
    "colab": {
     "base_uri": "https://localhost:8080/"
    },
    "id": "MYBQSO57Op61",
    "outputId": "95f22161-e98f-419e-dd0d-9f66243bf949",
    "pycharm": {
     "name": "#%%\n"
    }
   },
   "execution_count": 22,
   "outputs": [
    {
     "output_type": "stream",
     "name": "stdout",
     "text": [
      "20.811848341232192\n"
     ]
    }
   ]
  },
  {
   "cell_type": "code",
   "source": [
    "plt.plot(x, y, 'o');\n",
    "plt.plot(x, previsao2, color = 'red');\n",
    "plt.title('Regressao Linear');\n",
    "plt.xlabel('Tamanho');\n",
    "plt.ylabel('Peso');"
   ],
   "metadata": {
    "colab": {
     "base_uri": "https://localhost:8080/",
     "height": 295
    },
    "id": "lM-tnyByO6tB",
    "outputId": "b2a188cd-1915-4f2c-ebca-699bb431753d",
    "pycharm": {
     "name": "#%%\n"
    }
   },
   "execution_count": 27,
   "outputs": [
    {
     "output_type": "display_data",
     "data": {
      "text/plain": [
       "<Figure size 432x288 with 1 Axes>"
      ],
      "image/png": "[encoded data removed]"
     },
     "metadata": {
      "needs_background": "light"
     }
    }
   ]
  }
 ]
}