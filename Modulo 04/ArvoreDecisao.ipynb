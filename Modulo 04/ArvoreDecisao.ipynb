{
 "nbformat": 4,
 "nbformat_minor": 0,
 "metadata": {
  "colab": {
   "name": "ArvoreDecisao.ipynb",
   "provenance": [],
   "collapsed_sections": []
  },
  "kernelspec": {
   "name": "python3",
   "display_name": "Python 3"
  },
  "language_info": {
   "name": "python"
  }
 },
 "cells": [
  {
   "cell_type": "code",
   "execution_count": null,
   "metadata": {
    "id": "HTJW4-BiduzQ",
    "pycharm": {
     "name": "#%%\n"
    }
   },
   "outputs": [],
   "source": [
    "import pandas as pd\n",
    "df = pd.read_csv('risco_credito.csv')"
   ]
  },
  {
   "cell_type": "code",
   "source": [
    "df.head()"
   ],
   "metadata": {
    "id": "2uOgiSuMezS2",
    "pycharm": {
     "name": "#%%\n"
    }
   },
   "execution_count": null,
   "outputs": []
  },
  {
   "cell_type": "code",
   "source": [
    "df['historia'].unique()"
   ],
   "metadata": {
    "id": "Ryd5Ack9e1Ft",
    "pycharm": {
     "name": "#%%\n"
    }
   },
   "execution_count": null,
   "outputs": []
  },
  {
   "cell_type": "code",
   "source": [
    "x = df.iloc[:, 0:4].values\n",
    "y = df.iloc[:, 4]"
   ],
   "metadata": {
    "id": "mfAE3ULofMBM",
    "pycharm": {
     "name": "#%%\n"
    }
   },
   "execution_count": null,
   "outputs": []
  },
  {
   "cell_type": "code",
   "source": [
    "from sklearn.preprocessing import LabelEncoder"
   ],
   "metadata": {
    "id": "Dk4ngNwufv1j",
    "pycharm": {
     "name": "#%%\n"
    }
   },
   "execution_count": null,
   "outputs": []
  },
  {
   "cell_type": "code",
   "source": [
    "labelencoder = LabelEncoder()"
   ],
   "metadata": {
    "id": "NBPziQUMf4Q0",
    "pycharm": {
     "name": "#%%\n"
    }
   },
   "execution_count": null,
   "outputs": []
  },
  {
   "cell_type": "code",
   "source": [
    "x[:, 0] = labelencoder.fit_transform(x[:, 0])\n",
    "x[:, 1] = labelencoder.fit_transform(x[:, 1])\n",
    "x[:, 2] = labelencoder.fit_transform(x[:, 2])\n",
    "x[:, 3] = labelencoder.fit_transform(x[:, 3])\n",
    "\n"
   ],
   "metadata": {
    "id": "AEDw0P8Df_e6",
    "pycharm": {
     "name": "#%%\n"
    }
   },
   "execution_count": null,
   "outputs": []
  },
  {
   "cell_type": "code",
   "source": [
    "from sklearn.tree import DecisionTreeClassifier\n",
    "arvore_credito = DecisionTreeClassifier(criterion = 'entropy')\n",
    "arvore_credito.fit(x, y)"
   ],
   "metadata": {
    "id": "pIkOsM9hgURt",
    "pycharm": {
     "name": "#%%\n"
    }
   },
   "execution_count": null,
   "outputs": []
  },
  {
   "cell_type": "code",
   "source": [
    "arvore_credito.feature_importances_"
   ],
   "metadata": {
    "id": "Nkz-F1hmg4n6",
    "pycharm": {
     "name": "#%%\n"
    }
   },
   "execution_count": null,
   "outputs": []
  },
  {
   "cell_type": "code",
   "source": [
    "arvore_credito.classes_"
   ],
   "metadata": {
    "id": "i9o99m-ghFH9",
    "pycharm": {
     "name": "#%%\n"
    }
   },
   "execution_count": null,
   "outputs": []
  },
  {
   "cell_type": "code",
   "source": [
    "import matplotlib.pyplot as plt\n",
    "from sklearn import tree\n",
    "\n",
    "previsores = ['historia', 'divida', 'garantias', 'renda']\n",
    "figura, eixos = plt.subplots(nrows=1, ncols=1, figsize=(10, 10))\n",
    "tree.plot_tree(arvore_credito, feature_names=previsores,\n",
    "               class_names = arvore_credito.classes_, filled=True)"
   ],
   "metadata": {
    "id": "fPluBJ2BhPle",
    "pycharm": {
     "name": "#%%\n"
    }
   },
   "execution_count": null,
   "outputs": []
  },
  {
   "cell_type": "code",
   "source": [
    "previsores = arvore_credito.predict([0, 0, 1, 2])\n",
    "previsores"
   ],
   "metadata": {
    "id": "E2L1Yj14irnB",
    "pycharm": {
     "name": "#%%\n"
    }
   },
   "execution_count": null,
   "outputs": []
  }
 ]
}