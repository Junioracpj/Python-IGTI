{
 "nbformat": 4,
 "nbformat_minor": 0,
 "metadata": {
  "colab": {
   "name": "Threads.ipynb",
   "provenance": [],
   "collapsed_sections": []
  },
  "kernelspec": {
   "name": "python3",
   "display_name": "Python 3"
  },
  "language_info": {
   "name": "python"
  }
 },
 "cells": [
  {
   "cell_type": "code",
   "execution_count": 2,
   "metadata": {
    "colab": {
     "base_uri": "https://localhost:8080/"
    },
    "id": "8P2Ci1292Stf",
    "outputId": "78643efd-78de-4cb3-d0d9-c4b33142a971",
    "pycharm": {
     "name": "#%%\n"
    }
   },
   "outputs": [
    {
     "output_type": "stream",
     "name": "stdout",
     "text": [
      "Ola Bootacampers\n",
      "0\n",
      "1\n",
      "2\n",
      "3\n",
      "4\n",
      "5\n",
      "6\n",
      "7\n",
      "8\n",
      "9\n",
      "IGTI\n"
     ]
    }
   ],
   "source": [
    "from time import sleep\n",
    "print('Ola Bootacampers')\n",
    "\n",
    "for i in range(10):\n",
    "  print(i)\n",
    "  sleep(.5)\n",
    "  \n",
    "print('IGTI')"
   ]
  },
  {
   "cell_type": "code",
   "source": [
    "from typing import TextIO\n",
    "from threading import Thread\n",
    "\n",
    "class igtthread(Thread):\n",
    "  def __init__(self, texto, tempo):\n",
    "    self.texto = texto\n",
    "    self.tempo = tempo\n",
    "    super().__init__()\n",
    "  \n",
    "  def run(self):\n",
    "    sleep(self.tempo)\n",
    "    print(self.texto)\n",
    "  \n",
    "t1 = igtthread('IGTI Thread', 5)\n",
    "t1.start()\n",
    "\n",
    "t2 = igtthread('IGTI Thread', 2)\n",
    "t2.start()\n",
    "\n",
    "t3 = igtthread('IGTI Thread', 7)\n",
    "t3.start()\n",
    "\n",
    "t4 = igtthread('IGTI Thread', 10)\n",
    "t4.start()\n",
    "\n",
    "t5 = igtthread('IGTI Thread', 8)\n",
    "t5.start()\n",
    "\n",
    "\n",
    "for i in range(20):\n",
    "  print(i)\n",
    "  sleep(1)"
   ],
   "metadata": {
    "colab": {
     "base_uri": "https://localhost:8080/"
    },
    "id": "KktRcusi3MBd",
    "outputId": "7800c0ed-7fb3-4e76-e0c6-a8a4c9bd9b3b",
    "pycharm": {
     "name": "#%%\n"
    }
   },
   "execution_count": 5,
   "outputs": [
    {
     "output_type": "stream",
     "name": "stdout",
     "text": [
      "0\n",
      "1\n",
      "IGTI Thread\n",
      "2\n",
      "3\n",
      "4\n",
      "IGTI Thread\n",
      "5\n",
      "6\n",
      "IGTI Thread\n",
      "7\n",
      "IGTI Thread\n",
      "8\n",
      "9\n",
      "IGTI Thread\n",
      "10\n",
      "11\n",
      "12\n",
      "13\n",
      "14\n",
      "15\n",
      "16\n",
      "17\n",
      "18\n",
      "19\n"
     ]
    }
   ]
  }
 ]
}