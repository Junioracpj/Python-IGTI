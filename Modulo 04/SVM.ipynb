{
 "nbformat": 4,
 "nbformat_minor": 0,
 "metadata": {
  "colab": {
   "name": "SVM.ipynb",
   "provenance": [],
   "collapsed_sections": []
  },
  "kernelspec": {
   "name": "python3",
   "display_name": "Python 3"
  },
  "language_info": {
   "name": "python"
  }
 },
 "cells": [
  {
   "cell_type": "code",
   "execution_count": 2,
   "metadata": {
    "id": "3dS8hdSV1CXe",
    "pycharm": {
     "name": "#%%\n"
    }
   },
   "outputs": [],
   "source": [
    "from  sklearn.preprocessing import StandardScaler\n",
    "from sklearn.model_selection import train_test_split\n",
    "from sklearn.metrics import accuracy_score\n",
    "from sklearn.svm import SVC\n",
    "import pandas as pd"
   ]
  },
  {
   "cell_type": "code",
   "source": [
    "dataset = pd.read_csv('Social_net_ADS.csv')\n",
    "dataset.head()"
   ],
   "metadata": {
    "id": "EcEPIzUT2wio",
    "pycharm": {
     "name": "#%%\n"
    }
   },
   "execution_count": null,
   "outputs": []
  },
  {
   "cell_type": "code",
   "source": [
    "dataset['Purchased'].unique()\n",
    "x = dataset[['Age', 'EstimatedSalary']]\n",
    "y = dataset['Purchased']"
   ],
   "metadata": {
    "id": "2WsJiDvq3lSk",
    "pycharm": {
     "name": "#%%\n"
    }
   },
   "execution_count": null,
   "outputs": []
  },
  {
   "cell_type": "code",
   "source": [
    "# normalizacao dos dados\n",
    "sc = StandardScaler()\n",
    "x = sc.fit_transform(x)"
   ],
   "metadata": {
    "id": "sbi58g7v4H76",
    "pycharm": {
     "name": "#%%\n"
    }
   },
   "execution_count": null,
   "outputs": []
  },
  {
   "cell_type": "code",
   "source": [
    "# treino do modelo\n",
    "x_train, x_test, y_train, y_test = train_test_split(x, y, test_size = 0.20)\n",
    "svm = SVC(kernel='linear', random_state = 1, C = 1.0)\n",
    "# outros parametros - sigmoid, rbf\n",
    "svm.fit(x_train, y_train)"
   ],
   "metadata": {
    "id": "_F2j7JY74SHW",
    "pycharm": {
     "name": "#%%\n"
    }
   },
   "execution_count": null,
   "outputs": []
  },
  {
   "cell_type": "code",
   "source": [
    "y_pred = svm.predict(x_test)\n",
    "accuracy_score(y_test, y_pred)"
   ],
   "metadata": {
    "id": "8TI8EFCW4zgF",
    "pycharm": {
     "name": "#%%\n"
    }
   },
   "execution_count": null,
   "outputs": []
  }
 ]
}