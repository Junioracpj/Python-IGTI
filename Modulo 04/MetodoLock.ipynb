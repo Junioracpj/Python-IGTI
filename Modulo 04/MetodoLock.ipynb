{
 "nbformat": 4,
 "nbformat_minor": 0,
 "metadata": {
  "colab": {
   "name": "MetodoLock.ipynb",
   "provenance": [],
   "collapsed_sections": []
  },
  "kernelspec": {
   "name": "python3",
   "display_name": "Python 3"
  },
  "language_info": {
   "name": "python"
  }
 },
 "cells": [
  {
   "cell_type": "code",
   "source": [
    "from threading import Thread\n",
    "from time import sleep\n",
    "from threading import Lock\n",
    "\n",
    "class paes:\n",
    "  def __init__(self, estoque):\n",
    "    self.estoque = estoque\n",
    "    self.lock = Lock()\n",
    "\n",
    "  def comprar(self, quant):\n",
    "    self.lock.acquire()\n",
    "    if self.estoque < quant:\n",
    "      print(f'Náo temos paes suficientes.')\n",
    "      self.lock.release()\n",
    "      return\n",
    "    sleep(1)\n",
    "    self.estoque -= quant\n",
    "    print(f'Voce comprou {quant} pao(es).\\ Ainda temos {self.estoque} em estoque')\n",
    "    self.lock.release()\n",
    "\n",
    "if __name__ == '__main__':\n",
    "  paes = paes(10)\n",
    "  for i in range(1, 20):\n",
    "    t = Thread(target=paes.comprar, args=(i,))\n",
    "    t.start()"
   ],
   "metadata": {
    "id": "uCMFxI2C5dce",
    "pycharm": {
     "name": "#%%\n"
    }
   },
   "execution_count": 18,
   "outputs": []
  }
 ]
}